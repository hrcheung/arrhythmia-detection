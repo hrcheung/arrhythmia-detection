{
 "cells": [
  {
   "cell_type": "code",
   "execution_count": null,
   "metadata": {
    "id": "Ipe5_hHttUej"
   },
   "outputs": [],
   "source": [
    "!pip install -q wfdb\n",
    "!pip install -q transformers"
   ]
  },
  {
   "cell_type": "code",
   "execution_count": null,
   "metadata": {
    "id": "LTvbplZUtgF0"
   },
   "outputs": [],
   "source": [
    "import wfdb\n",
    "import numpy as np\n",
    "import pandas as pd\n",
    "import scipy as sp\n",
    "from scipy import io as sio\n",
    "from scipy import signal as sps\n",
    "import matplotlib.pyplot as plt\n",
    "\n",
    "\n",
    "from bisect import bisect\n",
    "from collections import defaultdict\n",
    "import pickle\n",
    "import json"
   ]
  },
  {
   "cell_type": "markdown",
   "metadata": {
    "id": "Kp8XM-R-vY7z"
   },
   "source": [
    "# 1. Feature Engineering\n",
    "The dataset is open-source and can be downloaded from PhysioNet: https://physionet.org/content/mitdb/1.0.0/. \n",
    "\n",
    "This pre-processing method is inspired by this paper (https://arxiv.org/abs/2207.07089) that uses wfdb library, a library specifically for medical wave data (https://wfdb.readthedocs.io/en/latest/wfdb.html) $\\textbf{UNLIKE the paper above, our uniqueness is to not store data but read in RAM so we save time}$. For our project, We tailor codes to get data that contains three columns. \n",
    "\n",
    "- patient_id\n",
    "- patient's heart beat\n",
    "- doctor's annotation on this heart beat (normal or abnormal)"
   ]
  },
  {
   "cell_type": "markdown",
   "metadata": {},
   "source": [
    "## 1.1 Data Read-in and Visualization"
   ]
  },
  {
   "cell_type": "code",
   "execution_count": null,
   "metadata": {
    "id": "7u4fzursvhWO"
   },
   "outputs": [],
   "source": [
    "# patient_ids = pd.read_csv(RECORDS, delimiter=\"\\n\", header=None).to_numpy().reshape(-1)\n",
    "patient_ids = [100,101,102,103,104,105,106,107,108,109,111,112,113,114,115,116,117,118,119,121,122,123,124,200,201,202,203,205,207,208,209,210,212,213,214,215,217,219,220,221,222,223,228,230,231,232,233,234]"
   ]
  },
  {
   "cell_type": "markdown",
   "metadata": {
    "id": "3LYDEhyRdztR"
   },
   "source": [
    "### Read the ECG signals: every id has two ECG signals denoting two types of heart rate. "
   ]
  },
  {
   "cell_type": "code",
   "execution_count": null,
   "metadata": {
    "id": "ymoIoO7rvaP2"
   },
   "outputs": [],
   "source": [
    "def get_ecg_signals(patient_ids):\n",
    "    lead0 = {}\n",
    "    lead1 = {}\n",
    "    for id_ in patient_ids:\n",
    "        signals, info = wfdb.io.rdsamp(str(id_), pn_dir='mitdb')\n",
    "        lead0[id_] = signals[:, 0]\n",
    "        lead1[id_] = signals[:, 1]\n",
    "    return lead0, lead1"
   ]
  },
  {
   "cell_type": "code",
   "execution_count": null,
   "metadata": {
    "id": "dxrv021Cvckp",
    "scrolled": true
   },
   "outputs": [],
   "source": [
    "lead0, lead1 = get_ecg_signals(patient_ids)"
   ]
  },
  {
   "cell_type": "code",
   "execution_count": null,
   "metadata": {
    "id": "DxP7mu4Wawnq"
   },
   "outputs": [],
   "source": [
    "def get_ecg_info(patient_ids):\n",
    "    _, info = wfdb.io.rdsamp( str(patient_ids[0]), pn_dir='mitdb')\n",
    "    resolution = 2**11  # Number of possible signal values we can have.\n",
    "    info[\"resolution\"] = 2**11\n",
    "    return info"
   ]
  },
  {
   "cell_type": "code",
   "execution_count": null,
   "metadata": {
    "colab": {
     "base_uri": "https://localhost:8080/"
    },
    "id": "kXkE9Qmpax-U",
    "outputId": "eae527a0-b456-4bf7-df20-f7abd387791a"
   },
   "outputs": [],
   "source": [
    "ecg_info = get_ecg_info(patient_ids)\n",
    "ecg_info"
   ]
  },
  {
   "cell_type": "markdown",
   "metadata": {
    "id": "X6NhSG1Ddi8w"
   },
   "source": [
    "### Read in Annotations dataset. \n",
    "\n",
    "Every record in annotation denotes whether this heart rate is Normal (marked with N) or not. "
   ]
  },
  {
   "cell_type": "code",
   "execution_count": null,
   "metadata": {
    "id": "UIOyTuSgb8da"
   },
   "outputs": [],
   "source": [
    "def get_paced_patients(patient_ids):\n",
    "    paced = []\n",
    "    for id_ in patient_ids:\n",
    "        annotation = wfdb.rdann(str(id_), pn_dir='mitdb', extension='atr')\n",
    "        labels = np.unique(annotation.symbol)\n",
    "        if (\"/\" in labels):\n",
    "            paced.append(id_)\n",
    "    return np.array(paced)"
   ]
  },
  {
   "cell_type": "code",
   "execution_count": null,
   "metadata": {
    "colab": {
     "base_uri": "https://localhost:8080/"
    },
    "id": "_W1zMuZqb_2F",
    "outputId": "f8064a49-9114-40b7-8a7b-20939db1b4cc"
   },
   "outputs": [],
   "source": [
    "paced_patients = get_paced_patients(patient_ids)\n",
    "paced_patients"
   ]
  },
  {
   "cell_type": "code",
   "execution_count": null,
   "metadata": {
    "id": "edlPQMY-cP5M"
   },
   "outputs": [],
   "source": [
    "def get_all_beat_labels(patient_ids):\n",
    "    all_labels = []\n",
    "    for id_ in patient_ids:\n",
    "        annotation = wfdb.rdann(str(id_), pn_dir='mitdb', extension='atr')\n",
    "        labels = np.unique(annotation.symbol)\n",
    "        all_labels.extend(labels)\n",
    "    return np.unique(all_labels)"
   ]
  },
  {
   "cell_type": "code",
   "execution_count": null,
   "metadata": {
    "colab": {
     "base_uri": "https://localhost:8080/"
    },
    "id": "o8Nfnl8gclwU",
    "outputId": "61d812f9-08d0-462a-9ec4-3df260112f4c"
   },
   "outputs": [],
   "source": [
    "all_beat_labels = get_all_beat_labels(patient_ids)\n",
    "all_beat_labels"
   ]
  },
  {
   "cell_type": "code",
   "execution_count": null,
   "metadata": {
    "id": "UY0wlJYHcvV_"
   },
   "outputs": [],
   "source": [
    "def get_rpeaks_and_labels(patient_ids):\n",
    "    rpeaks = {}\n",
    "    labels = {}\n",
    "    for id_ in patient_ids:\n",
    "        annotation = wfdb.rdann(str(id_), pn_dir='mitdb', extension='atr')\n",
    "        rpeaks[id_] = annotation.sample\n",
    "        labels[id_] = np.array(annotation.symbol)\n",
    "    return rpeaks, labels"
   ]
  },
  {
   "cell_type": "code",
   "execution_count": null,
   "metadata": {
    "colab": {
     "base_uri": "https://localhost:8080/"
    },
    "id": "FBe0BNG4cxc7",
    "outputId": "c59d109e-4a06-4ce6-b020-ede510b01b7d",
    "scrolled": true
   },
   "outputs": [],
   "source": [
    "rpeaks, labels = get_rpeaks_and_labels(patient_ids)"
   ]
  },
  {
   "cell_type": "markdown",
   "metadata": {
    "id": "RZNabkcXd5-s"
   },
   "source": [
    "### Visualize to see heart rate and heart beat."
   ]
  },
  {
   "cell_type": "code",
   "execution_count": null,
   "metadata": {
    "colab": {
     "base_uri": "https://localhost:8080/",
     "height": 508
    },
    "id": "uWD_AxmGhBsx",
    "outputId": "fc3b1f6e-ac82-4f3f-c9eb-5608cfacc9e5"
   },
   "outputs": [],
   "source": [
    "patient_id = 203\n",
    "secs = 20\n",
    "samps = secs * ecg_info[\"fs\"]\n",
    "upto = bisect(rpeaks[patient_id], samps)\n",
    "signal, peaks = lead1[patient_id], rpeaks[patient_id]\n",
    "\n",
    "plt.figure(figsize=(15, 8), dpi=100)\n",
    "plt.plot(signal[:samps], linewidth=0.1)\n",
    "plt.plot(peaks[:upto]-2, signal[peaks[:upto]-2], marker=\"x\", linestyle=\"\")\n",
    "plt.show()"
   ]
  },
  {
   "cell_type": "markdown",
   "metadata": {},
   "source": [
    "## 1.2 Turn ECG heart rate (signal) to heart beat to match annotation"
   ]
  },
  {
   "cell_type": "markdown",
   "metadata": {
    "id": "abTasiDxiayJ"
   },
   "source": [
    "### Separate ECG signal into its beats and annotate them.\n",
    "- **Beat classes are different from beat labels. Classes are only one of N, S, V, F, Q.**\n",
    "https://physionet.org/physiobank/database/html/mitdbdir/intro.htm\n",
    "https://archive.physionet.org/physiobank/database/html/mitdbdir/tables.htm\n"
   ]
  },
  {
   "cell_type": "code",
   "execution_count": null,
   "metadata": {
    "id": "CVD7SLsJiak4"
   },
   "outputs": [],
   "source": [
    "def get_normal_beat_labels():\n",
    "    \"\"\"\n",
    "    The MIT-BIH labels that are classified as healthy/normal. Check wfdb.Annotation documentation for description of labels.\n",
    "    N: {N, L, R, e, j}. \n",
    "    \"\"\"\n",
    "    return np.array([\"N\", \"L\", \"R\", \"e\", \"j\"])\n",
    "\n",
    "def get_abnormal_beat_labels():\n",
    "    \"\"\"\n",
    "    The MIT-BIH labels that are classified as arrhythmia/abnormal. Check wfdb.Annotation documentation for description of labels.\n",
    "    S: {S, A, J, a} - V: {V, E} - F: {F} - Q: {Q}\n",
    "    \"\"\"\n",
    "    return np.array([\"S\", \"A\", \"J\", \"a\", \"V\", \"E\", \"F\", \"Q\"])\n",
    "\n",
    "def get_beat_class(label):\n",
    "    \"\"\"\n",
    "    A mapping from labels to classes, based on the rules described in get_normal_beat_labels() and get_abnormal_beat_labels().\n",
    "    \"\"\"\n",
    "    if label in [\"N\", \"L\", \"R\", \"e\", \"j\"]:\n",
    "        return \"N\"\n",
    "    elif label in [\"S\", \"A\", \"J\", \"a\"]:\n",
    "        return \"S\"\n",
    "    elif label in [\"V\", \"E\"]:\n",
    "        return \"V\"\n",
    "    elif label == \"F\" or label == \"Q\":\n",
    "        return label\n",
    "    return None"
   ]
  },
  {
   "cell_type": "code",
   "execution_count": null,
   "metadata": {
    "id": "ZyITrz_hizX7"
   },
   "outputs": [],
   "source": [
    "def get_beats(patient_ids, signals, rpeaks, labels, beat_trio=False, centered=False, lr_offset=0.1, matlab=False):\n",
    "    \"\"\"\n",
    "    For each patient:\n",
    "    Converts its ECG signal to an array of valid beats, where each rpeak with a valid label is converted to a beat of length 128 by resampling (Fourier-Domain).\n",
    "    Converts its labels to an array of valid labels, and a valid label is defined in the functions get_normal_beat_labels() and get_abnormal_beat_labels().\n",
    "    Converts its valid labels to an array of classes, where each valid label is one of 5 classes, (N, S, V, F, Q).\n",
    "\n",
    "    Parameters\n",
    "    ----------\n",
    "    beat_trio: bool, default=False\n",
    "        If True, generate beats as trios.\n",
    "\n",
    "    centered: bool, default=False\n",
    "        Whether the generated beats have their peaks centered.\n",
    "\n",
    "    lr_offset: float, default=0.1, range=[0, 1]\n",
    "        A beat is extracted by finding the beats before and after it, and then offsetting by some samples. This parameter controls how many samples are\n",
    "        offsetted. If the lower beat is L, and the current beat is C, then we offset by `lr_offset * abs(L - C)` samples.\n",
    "\n",
    "    matlab: bool, default=False\n",
    "        If True, dictionary keys become strings to be able to save the dictionary as a .mat file.\n",
    "    \"\"\"\n",
    "    \n",
    "    beat_length = 128\n",
    "    get_key_name = lambda patient_id: f\"patient_{patient_id}\" if matlab else patient_id\n",
    "    \n",
    "    beat_data = {get_key_name(patient_id):{\"beats\":[], \"class\":[], \"label\":[]} for patient_id in patient_ids}\n",
    "    \n",
    "    for j, patient_id in enumerate(patient_ids):\n",
    "        key_name = get_key_name(patient_id)\n",
    "        \n",
    "        # Filter out rpeaks that do not correspond to a valid label.\n",
    "        valid_labels = np.concatenate((get_normal_beat_labels(), get_abnormal_beat_labels()))\n",
    "        valid_idx = np.where(np.isin(labels[patient_id], valid_labels))[0]\n",
    "        valid_rpeaks = rpeaks[patient_id][valid_idx]\n",
    "        valid_labels = labels[patient_id][valid_idx]\n",
    "        \n",
    "        for i in range(1, len(valid_rpeaks) - 1):\n",
    "            lpeak = valid_rpeaks[i - 1]\n",
    "            cpeak = valid_rpeaks[i]\n",
    "            upeak = valid_rpeaks[i + 1]\n",
    "    \n",
    "            if beat_trio:\n",
    "                lpeak = int(lpeak - (lr_offset * abs(cpeak - lpeak)))\n",
    "                upeak = int(upeak + (lr_offset * abs(cpeak - upeak)))\n",
    "            else:\n",
    "                lpeak = int(lpeak + (lr_offset * abs(cpeak - lpeak)))\n",
    "                upeak = int(upeak - (lr_offset * abs(cpeak - upeak)))\n",
    "            \n",
    "            if centered:\n",
    "                ldiff = abs(lpeak - cpeak)\n",
    "                udiff = abs(upeak - cpeak)\n",
    "                diff = min(ldiff, udiff)\n",
    "                \n",
    "                # Take same number of samples from the center.\n",
    "                beat = signals[patient_id][cpeak - diff:cpeak + diff + 1]\n",
    "            else:\n",
    "                beat = signals[patient_id][lpeak:upeak]\n",
    "            \n",
    "            # Resampling in the frequency domain instead of in the time domain (resample_poly)\n",
    "            # beat = sp.signal.resample_poly(beat, beat_length, len(beat))\n",
    "            beat = sp.signal.resample(beat, beat_length)\n",
    "    \n",
    "            # detrend the beat and normalize it.\n",
    "            beat = sps.detrend(beat)\n",
    "            beat = beat / np.linalg.norm(beat, ord=2)\n",
    "        \n",
    "            label = valid_labels[i]\n",
    "        \n",
    "            beat_data[key_name][\"beats\"].append(beat)\n",
    "            beat_data[key_name][\"class\"].append(get_beat_class(label))\n",
    "            beat_data[key_name][\"label\"].append(label)\n",
    "        beat_data[key_name][\"beats\"] = np.stack(beat_data[key_name][\"beats\"])\n",
    "        beat_data[key_name][\"class\"] = np.stack(beat_data[key_name][\"class\"])\n",
    "        beat_data[key_name][\"label\"] = np.stack(beat_data[key_name][\"label\"])\n",
    "        \n",
    "    return beat_data"
   ]
  },
  {
   "cell_type": "code",
   "execution_count": null,
   "metadata": {
    "id": "5E-S0d4xjKn-"
   },
   "outputs": [],
   "source": [
    "beat_data = get_beats(patient_ids, lead0, rpeaks, labels, beat_trio=False, centered=False, lr_offset=0.1)"
   ]
  },
  {
   "cell_type": "code",
   "execution_count": null,
   "metadata": {
    "colab": {
     "base_uri": "https://localhost:8080/",
     "height": 259
    },
    "id": "M9ZwqDiDjcoJ",
    "outputId": "a922d352-8368-4624-f4df-9724a976728b"
   },
   "outputs": [],
   "source": [
    "plt.figure(figsize=(20, 5))\n",
    "plt.plot(beat_data[232][\"beats\"][beat_data[232][\"class\"] == \"N\"].T, \"C2\")\n",
    "plt.show()"
   ]
  },
  {
   "cell_type": "code",
   "execution_count": null,
   "metadata": {
    "colab": {
     "base_uri": "https://localhost:8080/",
     "height": 259
    },
    "id": "168bXarHjexQ",
    "outputId": "3d2cb872-cf8d-491f-ce56-ca6dd3dcc0d3"
   },
   "outputs": [],
   "source": [
    "plt.figure(figsize=(20, 5))\n",
    "plt.plot(beat_data[100][\"beats\"][0:50].T, \"C0\")\n",
    "plt.plot(beat_data[203][\"beats\"][0:50].T, \"C1\")\n",
    "plt.plot(beat_data[232][\"beats\"][0:50].T, \"C2\")\n",
    "plt.show()"
   ]
  },
  {
   "cell_type": "markdown",
   "metadata": {
    "id": "UlheMHeWuLz7"
   },
   "source": [
    "# 2. Model Training\n"
   ]
  },
  {
   "cell_type": "markdown",
   "metadata": {
    "id": "6wf-hY98-wGZ"
   },
   "source": [
    "## 2.1 Pytorch with BERT"
   ]
  },
  {
   "cell_type": "code",
   "execution_count": null,
   "metadata": {
    "id": "7loZT48lBA4Y"
   },
   "outputs": [],
   "source": [
    "import os\n",
    "import torch\n",
    "import torch.nn as nn\n",
    "import torch.optim as optim\n",
    "from torch.utils.data import Dataset, DataLoader\n",
    "from transformers import BertTokenizer, BertModel, AdamW\n",
    "import pandas as pd\n",
    "import numpy as np\n",
    "from tqdm import tqdm\n",
    "from sklearn.model_selection import train_test_split"
   ]
  },
  {
   "cell_type": "code",
   "execution_count": null,
   "metadata": {
    "id": "UvMT3zYHBGrh"
   },
   "outputs": [],
   "source": [
    "class HeartRateDataset(Dataset):\n",
    "    def __init__(self, data, labels):\n",
    "        self.data = data\n",
    "        self.labels = labels\n",
    "        self.tokenizer = BertTokenizer.from_pretrained(\"bert-base-uncased\")\n",
    "\n",
    "    def __len__(self):\n",
    "        return len(self.data)\n",
    "\n",
    "    def __getitem__(self, idx):\n",
    "        beats = self.data[idx]\n",
    "        label = self.labels[idx]\n",
    "        encoding = self.tokenizer(\n",
    "            beats,\n",
    "            add_special_tokens=True,\n",
    "            max_length=512,\n",
    "            padding=\"max_length\",\n",
    "            truncation=True,\n",
    "            return_tensors=\"pt\",\n",
    "        )\n",
    "        return {\n",
    "            \"input_ids\": encoding[\"input_ids\"][0],\n",
    "            \"attention_mask\": encoding[\"attention_mask\"][0],\n",
    "            \"label\": torch.tensor(int(label)),\n",
    "        }"
   ]
  },
  {
   "cell_type": "code",
   "execution_count": null,
   "metadata": {
    "id": "buefAG-oBLFx"
   },
   "outputs": [],
   "source": [
    "class HeartRateClassifier(nn.Module):\n",
    "    def __init__(self, num_labels):\n",
    "        super(HeartRateClassifier, self).__init__()\n",
    "        self.bert = BertModel.from_pretrained(\"bert-base-uncased\")\n",
    "        self.dropout = nn.Dropout(0.1)\n",
    "        self.linear = nn.Linear(768, num_labels)\n",
    "\n",
    "    def forward(self, input_ids, attention_mask):\n",
    "        outputs = self.bert(input_ids=input_ids, attention_mask=attention_mask)\n",
    "        pooled_output = outputs[\"pooler_output\"]\n",
    "        pooled_output = self.dropout(pooled_output)\n",
    "        logits = self.linear(pooled_output)\n",
    "        return logits"
   ]
  },
  {
   "cell_type": "code",
   "execution_count": null,
   "metadata": {
    "id": "LuBNMoDaBOLF"
   },
   "outputs": [],
   "source": [
    "def train(model, dataloader, optimizer, loss_fn, device):\n",
    "    model.train()\n",
    "    total_loss, total_correct = 0, 0\n",
    "    \n",
    "    progress_bar = tqdm(dataloader, desc=\"Training\", unit=\"batch\")\n",
    "    \n",
    "    for batch in progress_bar:\n",
    "        input_ids = batch[\"input_ids\"].to(device)\n",
    "        attention_mask = batch[\"attention_mask\"].to(device)\n",
    "        labels = batch[\"label\"].to(device)\n",
    "        optimizer.zero_grad()\n",
    "        outputs = model(input_ids, attention_mask)\n",
    "        loss = loss_fn(outputs, labels)\n",
    "        total_loss += loss.item()\n",
    "        loss.backward()\n",
    "        optimizer.step()\n",
    "        _, preds = torch.max(outputs, dim=1)\n",
    "        total_correct += torch.sum(preds == labels).item()\n",
    "        progress_bar.set_postfix({\"Loss\": total_loss / (total_correct if total_correct != 0 else 1)})\n",
    "    \n",
    "    acc = total_correct / len(dataloader.dataset)\n",
    "    return total_loss, acc"
   ]
  },
  {
   "cell_type": "code",
   "execution_count": null,
   "metadata": {
    "id": "h2Zvc74OBQhY"
   },
   "outputs": [],
   "source": [
    "def evaluate(model, dataloader, loss_fn, device):\n",
    "    model.eval()\n",
    "    total_loss, total_correct = 0, 0\n",
    "    \n",
    "    progress_bar = tqdm(dataloader, desc=\"Evaluating\", unit=\"batch\")\n",
    "    \n",
    "    with torch.no_grad():\n",
    "        for batch in progress_bar:\n",
    "            input_ids = batch[\"input_ids\"].to(device)\n",
    "            attention_mask = batch[\"attention_mask\"].to(device)\n",
    "            labels = batch[\"label\"].to(device)\n",
    "            outputs = model(input_ids, attention_mask)\n",
    "            loss = loss_fn(outputs, labels)\n",
    "            total_loss += loss.item()\n",
    "            _, preds = torch.max(outputs, dim=1)\n",
    "            total_correct += torch.sum(preds == labels).item()\n",
    "            progress_bar.set_postfix({\"Loss\": total_loss / (total_correct if total_correct != 0 else 1)})\n",
    "    \n",
    "    acc = total_correct / len(dataloader.dataset)\n",
    "    return total_loss, acc"
   ]
  },
  {
   "cell_type": "code",
   "execution_count": null,
   "metadata": {
    "id": "o-YRT8jRBSmH"
   },
   "outputs": [],
   "source": [
    "# Save checkpoint function\n",
    "def save_checkpoint(model, optimizer, epoch, filename):\n",
    "    checkpoint = {\n",
    "        \"epoch\": epoch,\n",
    "        \"model_state_dict\": model.state_dict(),\n",
    "        \"optimizer_state_dict\": optimizer.state_dict(),\n",
    "    }\n",
    "    torch.save(checkpoint, filename)"
   ]
  },
  {
   "cell_type": "markdown",
   "metadata": {
    "id": "pF2V_9wLD0tN"
   },
   "source": [
    "### Load Data"
   ]
  },
  {
   "cell_type": "code",
   "execution_count": null,
   "metadata": {
    "id": "o3Hwlr7aiQjh"
   },
   "outputs": [],
   "source": [
    "# # Load the dataset from csv file\n",
    "# data = pd.read_csv('data.csv')\n",
    "# data.drop('label', axis=1, inplace=True)\n",
    "# data.rename(columns={'class': 'label'}, inplace=True)\n",
    "# data['label'] = data['label'].apply(lambda x: 0 if x == 'N' else 1)\n",
    "\n",
    "# #Split the data into training and testing sets\n",
    "# train_data, test_data = train_test_split(data, test_size=0.2, random_state=42)\n",
    "\n",
    "# #Convert numerical data to strings\n",
    "# train_beats = [','.join(map(str, np.fromstring(x, sep=','))) for x in train_data['beat'].tolist()]\n",
    "# train_labels = train_data['label'].tolist()\n",
    "\n",
    "# test_beats = [','.join(map(str, np.fromstring(x, sep=','))) for x in test_data['beat'].tolist()]\n",
    "# test_labels = test_data['label'].tolist()"
   ]
  },
  {
   "cell_type": "code",
   "execution_count": null,
   "metadata": {
    "id": "In71J4CbTonN"
   },
   "outputs": [],
   "source": [
    "data = pd.DataFrame(columns=[\"beat\", \"label\",\"id\"])\n",
    "for i in patient_ids: \n",
    "  df = pd.DataFrame(zip(beat_data[i]['beats'], beat_data[i]['class']), columns=[\"beat\", \"label\"])\n",
    "  df[\"id\"] = i\n",
    "  data = pd.concat([data, df], ignore_index=True)"
   ]
  },
  {
   "cell_type": "code",
   "execution_count": null,
   "metadata": {
    "id": "8iJuLLBQEZWp"
   },
   "outputs": [],
   "source": [
    "data['label'] = data['label'].apply(lambda x: 0 if x == 'N' else 1)"
   ]
  },
  {
   "cell_type": "code",
   "execution_count": null,
   "metadata": {
    "id": "e8OOTJaP8DHR"
   },
   "outputs": [],
   "source": [
    "#Split the data into training and testing sets\n",
    "train_data, test_data = train_test_split(data, test_size=0.2, random_state=42)"
   ]
  },
  {
   "cell_type": "markdown",
   "metadata": {
    "id": "cdlKEpXx-fbI"
   },
   "source": [
    "### Pre-trained with BERT"
   ]
  },
  {
   "cell_type": "code",
   "execution_count": null,
   "metadata": {
    "id": "MpeQW_Vx8fIp"
   },
   "outputs": [],
   "source": [
    "#Convert numerical data to strings\n",
    "train_beats = [','.join(map(str, x)) for x in train_data['beat'].tolist()]\n",
    "train_labels = train_data['label'].tolist()\n",
    "\n",
    "test_beats = [','.join(map(str, x)) for x in test_data['beat'].tolist()]\n",
    "test_labels = test_data['label'].tolist()"
   ]
  },
  {
   "cell_type": "code",
   "execution_count": null,
   "metadata": {
    "colab": {
     "base_uri": "https://localhost:8080/",
     "height": 252,
     "referenced_widgets": [
      "159d3a37b363453abb45ae8794a19a3e",
      "9c4af42d2bea4064b20a579ef4377540",
      "f6d7e3ccef5b466ba681af2c8e1b6e29",
      "de2b7035048c42f1be0cfe15723d8091",
      "b5b0a32a59d149a188820204235e8f65",
      "272110a083734379a3ae05fb1145585a",
      "ea3f10c2b072444b8c33947cf3911edd",
      "83d0bd3dfee04ffbaed0443763812ba8",
      "96ba2d0f9f5e41b2b40ccfdd078bf9e6",
      "3b80b69071574d7fb3d4b3716ca3cc2c",
      "d584727c8e514285aaf1989db482b804",
      "371d20c636d347aaaa424b3a20b43805",
      "e5d0899cb8ec473ba9163e2cac5b3cdc",
      "34473e6be4cf48b9a3d634a0f5634f40",
      "aee3045ec6f4460b8113fd516192b87c",
      "50ef830702764a368406c58c36e7acda",
      "c7b9f81c2479475d8195cce5fc2f78ee",
      "e837531771dd4a018defcf1c2268ba00",
      "0883dcdb440448a6a59d582f7a417876",
      "5ac00ac3cf7d4d39ba8c7b41b56f5061",
      "07809965c56e4d8689524139c7664f0e",
      "a3532fc6f6184252a9c99b5c19805a5d",
      "00f7c15c174f476298510a1f20c78a4b",
      "ac4bfebada2747eb865706c33fe61460",
      "eb143e957700414a9cb55c3587fc876a",
      "bdf33eaafe944624b63cabcfbde03470",
      "220351856091425c9de46f03a7083e44",
      "ff63b20d8fb146319baf01d08cdfbdc4",
      "4e2b12f4f41847a6974a4d8e94b9751a",
      "f3b1575d668444eab2969126e2061de6",
      "1eaa1f14c9d845d39ebcd78c95eac6ae",
      "3eb62d4ad7fe415b9ab885159f8bca5e",
      "31b9d22346e74ab3a6211857195ad06c",
      "c738d9667be542fba13fd14df98c514f",
      "356d3b7b5cb245959a5d948520fffd3b",
      "40fb37c8df0f403fa7a0d9c29363a8e7",
      "dcf145ed9691437189cab15adc59d667",
      "ae53c4a046254236a4aa345d28151ad2",
      "7ec6aa3b691c4cc898cc984184da7ad6",
      "3c71815fae0e478eacaf5db1b253e487",
      "a6ae7fab62594a748e102adfba71f4e2",
      "cb90127ba2224e8dab50e08d5606e9b6",
      "8bc986a819dd4fe0a321670686ec7315",
      "199c19f01cbd40419dcc4e2f607c8d77"
     ]
    },
    "id": "ay2_Ovswgy89",
    "outputId": "ec90a3ec-2e46-4f02-a24d-6d2ab7f6bae9"
   },
   "outputs": [],
   "source": [
    "#Create datasets\n",
    "train_dataset = HeartRateDataset(train_beats, train_labels)\n",
    "test_dataset = HeartRateDataset(test_beats, test_labels)\n",
    "\n",
    "#Create data loaders\n",
    "train_loader = DataLoader(train_dataset, batch_size=16, shuffle=True)\n",
    "test_loader = DataLoader(test_dataset, batch_size=16, shuffle=False)\n",
    "\n",
    "#Initialize the model, loss function, and optimizer\n",
    "device = torch.device(\"cuda\" if torch.cuda.is_available() else \"cpu\")\n",
    "model = HeartRateClassifier(num_labels=2).to(device)\n",
    "loss_fn = nn.CrossEntropyLoss()\n",
    "optimizer = AdamW(model.parameters(), lr=2e-5, eps=1e-8)\n",
    "\n",
    "# Train and evaluate the model with checkpoint saving\n",
    "epochs = 10\n",
    "checkpoint_dir = \"checkpoints\"\n",
    "os.makedirs(checkpoint_dir, exist_ok=True)\n"
   ]
  },
  {
   "cell_type": "code",
   "execution_count": null,
   "metadata": {
    "colab": {
     "base_uri": "https://localhost:8080/"
    },
    "id": "2GogaTd0BVWq",
    "outputId": "9bf5d2b2-2183-4c72-8e5c-4d87f8b7215f"
   },
   "outputs": [],
   "source": [
    "for epoch in range(epochs):\n",
    "    train_loss, train_acc = train(model, train_loader, optimizer, loss_fn, device)\n",
    "    eval_loss, eval_acc = evaluate(model, test_loader, loss_fn, device)\n",
    "    print(f\"Epoch {epoch+1}, Training Loss: {train_loss/len(train_loader)}, Training Accuracy: {train_acc:.2f}, Validation Loss: {eval_loss/len(test_loader)}, Validation Accuracy: {eval_acc:.2f}\")\n",
    "\n",
    "    # Save the checkpoint after each epoch\n",
    "    checkpoint_file = f\"{checkpoint_dir}/model_epoch_{epoch+1}.pt\"\n",
    "    save_checkpoint(model, optimizer, epoch, checkpoint_file)"
   ]
  },
  {
   "cell_type": "markdown",
   "metadata": {
    "id": "YhHfVjV6_Dp1"
   },
   "source": [
    "## 2.2 Train with Random Forest"
   ]
  },
  {
   "cell_type": "code",
   "execution_count": null,
   "metadata": {
    "id": "XECdrnIDDuY8"
   },
   "outputs": [],
   "source": [
    "train_beats_numerical = train_data['beat'].to_list()\n",
    "train_labels = train_data['label'].to_list()\n",
    "\n",
    "test_beats_numerical = test_data['beat'].to_list()\n",
    "test_labels = test_data['label'].to_list()"
   ]
  },
  {
   "cell_type": "code",
   "execution_count": null,
   "metadata": {
    "id": "0IXLEuer_IUU"
   },
   "outputs": [],
   "source": [
    "from sklearn.ensemble import RandomForestClassifier\n",
    "\n",
    "rf = RandomForestClassifier(n_estimators=100, random_state=42)\n",
    "rf.fit(train_beats_numerical, train_labels)\n",
    "y_pred = rf.predict(test_beats_numerical)"
   ]
  },
  {
   "cell_type": "code",
   "execution_count": null,
   "metadata": {
    "colab": {
     "base_uri": "https://localhost:8080/"
    },
    "id": "LBHJWEf-UFg-",
    "outputId": "f3a3ddc3-df95-48ea-ffd1-61baddd34094"
   },
   "outputs": [],
   "source": [
    "from sklearn.metrics import accuracy_score, precision_score, recall_score, f1_score\n",
    "\n",
    "print(\"Accuracy:\", accuracy_score(test_labels, y_pred))\n",
    "print(\"Precision:\", precision_score(test_labels, y_pred, average='macro'))\n",
    "print(\"Recall:\", recall_score(test_labels, y_pred, average='macro'))\n",
    "print(\"F1 score:\", f1_score(test_labels, y_pred, average='macro'))"
   ]
  }
 ],
 "metadata": {
  "colab": {
   "collapsed_sections": [
    "6wf-hY98-wGZ",
    "cdlKEpXx-fbI",
    "YhHfVjV6_Dp1"
   ],
   "provenance": []
  },
  "kernelspec": {
   "display_name": "Python 3",
   "language": "python",
   "name": "python3"
  },
  "language_info": {
   "codemirror_mode": {
    "name": "ipython",
    "version": 3
   },
   "file_extension": ".py",
   "mimetype": "text/x-python",
   "name": "python",
   "nbconvert_exporter": "python",
   "pygments_lexer": "ipython3",
   "version": "3.8.3"
  },
  "widgets": {
   "application/vnd.jupyter.widget-state+json": {
    "00f7c15c174f476298510a1f20c78a4b": {
     "model_module": "@jupyter-widgets/controls",
     "model_module_version": "1.5.0",
     "model_name": "HBoxModel",
     "state": {
      "_dom_classes": [],
      "_model_module": "@jupyter-widgets/controls",
      "_model_module_version": "1.5.0",
      "_model_name": "HBoxModel",
      "_view_count": null,
      "_view_module": "@jupyter-widgets/controls",
      "_view_module_version": "1.5.0",
      "_view_name": "HBoxView",
      "box_style": "",
      "children": [
       "IPY_MODEL_ac4bfebada2747eb865706c33fe61460",
       "IPY_MODEL_eb143e957700414a9cb55c3587fc876a",
       "IPY_MODEL_bdf33eaafe944624b63cabcfbde03470"
      ],
      "layout": "IPY_MODEL_220351856091425c9de46f03a7083e44"
     }
    },
    "07809965c56e4d8689524139c7664f0e": {
     "model_module": "@jupyter-widgets/base",
     "model_module_version": "1.2.0",
     "model_name": "LayoutModel",
     "state": {
      "_model_module": "@jupyter-widgets/base",
      "_model_module_version": "1.2.0",
      "_model_name": "LayoutModel",
      "_view_count": null,
      "_view_module": "@jupyter-widgets/base",
      "_view_module_version": "1.2.0",
      "_view_name": "LayoutView",
      "align_content": null,
      "align_items": null,
      "align_self": null,
      "border": null,
      "bottom": null,
      "display": null,
      "flex": null,
      "flex_flow": null,
      "grid_area": null,
      "grid_auto_columns": null,
      "grid_auto_flow": null,
      "grid_auto_rows": null,
      "grid_column": null,
      "grid_gap": null,
      "grid_row": null,
      "grid_template_areas": null,
      "grid_template_columns": null,
      "grid_template_rows": null,
      "height": null,
      "justify_content": null,
      "justify_items": null,
      "left": null,
      "margin": null,
      "max_height": null,
      "max_width": null,
      "min_height": null,
      "min_width": null,
      "object_fit": null,
      "object_position": null,
      "order": null,
      "overflow": null,
      "overflow_x": null,
      "overflow_y": null,
      "padding": null,
      "right": null,
      "top": null,
      "visibility": null,
      "width": null
     }
    },
    "0883dcdb440448a6a59d582f7a417876": {
     "model_module": "@jupyter-widgets/base",
     "model_module_version": "1.2.0",
     "model_name": "LayoutModel",
     "state": {
      "_model_module": "@jupyter-widgets/base",
      "_model_module_version": "1.2.0",
      "_model_name": "LayoutModel",
      "_view_count": null,
      "_view_module": "@jupyter-widgets/base",
      "_view_module_version": "1.2.0",
      "_view_name": "LayoutView",
      "align_content": null,
      "align_items": null,
      "align_self": null,
      "border": null,
      "bottom": null,
      "display": null,
      "flex": null,
      "flex_flow": null,
      "grid_area": null,
      "grid_auto_columns": null,
      "grid_auto_flow": null,
      "grid_auto_rows": null,
      "grid_column": null,
      "grid_gap": null,
      "grid_row": null,
      "grid_template_areas": null,
      "grid_template_columns": null,
      "grid_template_rows": null,
      "height": null,
      "justify_content": null,
      "justify_items": null,
      "left": null,
      "margin": null,
      "max_height": null,
      "max_width": null,
      "min_height": null,
      "min_width": null,
      "object_fit": null,
      "object_position": null,
      "order": null,
      "overflow": null,
      "overflow_x": null,
      "overflow_y": null,
      "padding": null,
      "right": null,
      "top": null,
      "visibility": null,
      "width": null
     }
    },
    "159d3a37b363453abb45ae8794a19a3e": {
     "model_module": "@jupyter-widgets/controls",
     "model_module_version": "1.5.0",
     "model_name": "HBoxModel",
     "state": {
      "_dom_classes": [],
      "_model_module": "@jupyter-widgets/controls",
      "_model_module_version": "1.5.0",
      "_model_name": "HBoxModel",
      "_view_count": null,
      "_view_module": "@jupyter-widgets/controls",
      "_view_module_version": "1.5.0",
      "_view_name": "HBoxView",
      "box_style": "",
      "children": [
       "IPY_MODEL_9c4af42d2bea4064b20a579ef4377540",
       "IPY_MODEL_f6d7e3ccef5b466ba681af2c8e1b6e29",
       "IPY_MODEL_de2b7035048c42f1be0cfe15723d8091"
      ],
      "layout": "IPY_MODEL_b5b0a32a59d149a188820204235e8f65"
     }
    },
    "199c19f01cbd40419dcc4e2f607c8d77": {
     "model_module": "@jupyter-widgets/controls",
     "model_module_version": "1.5.0",
     "model_name": "DescriptionStyleModel",
     "state": {
      "_model_module": "@jupyter-widgets/controls",
      "_model_module_version": "1.5.0",
      "_model_name": "DescriptionStyleModel",
      "_view_count": null,
      "_view_module": "@jupyter-widgets/base",
      "_view_module_version": "1.2.0",
      "_view_name": "StyleView",
      "description_width": ""
     }
    },
    "1eaa1f14c9d845d39ebcd78c95eac6ae": {
     "model_module": "@jupyter-widgets/controls",
     "model_module_version": "1.5.0",
     "model_name": "ProgressStyleModel",
     "state": {
      "_model_module": "@jupyter-widgets/controls",
      "_model_module_version": "1.5.0",
      "_model_name": "ProgressStyleModel",
      "_view_count": null,
      "_view_module": "@jupyter-widgets/base",
      "_view_module_version": "1.2.0",
      "_view_name": "StyleView",
      "bar_color": null,
      "description_width": ""
     }
    },
    "220351856091425c9de46f03a7083e44": {
     "model_module": "@jupyter-widgets/base",
     "model_module_version": "1.2.0",
     "model_name": "LayoutModel",
     "state": {
      "_model_module": "@jupyter-widgets/base",
      "_model_module_version": "1.2.0",
      "_model_name": "LayoutModel",
      "_view_count": null,
      "_view_module": "@jupyter-widgets/base",
      "_view_module_version": "1.2.0",
      "_view_name": "LayoutView",
      "align_content": null,
      "align_items": null,
      "align_self": null,
      "border": null,
      "bottom": null,
      "display": null,
      "flex": null,
      "flex_flow": null,
      "grid_area": null,
      "grid_auto_columns": null,
      "grid_auto_flow": null,
      "grid_auto_rows": null,
      "grid_column": null,
      "grid_gap": null,
      "grid_row": null,
      "grid_template_areas": null,
      "grid_template_columns": null,
      "grid_template_rows": null,
      "height": null,
      "justify_content": null,
      "justify_items": null,
      "left": null,
      "margin": null,
      "max_height": null,
      "max_width": null,
      "min_height": null,
      "min_width": null,
      "object_fit": null,
      "object_position": null,
      "order": null,
      "overflow": null,
      "overflow_x": null,
      "overflow_y": null,
      "padding": null,
      "right": null,
      "top": null,
      "visibility": null,
      "width": null
     }
    },
    "272110a083734379a3ae05fb1145585a": {
     "model_module": "@jupyter-widgets/base",
     "model_module_version": "1.2.0",
     "model_name": "LayoutModel",
     "state": {
      "_model_module": "@jupyter-widgets/base",
      "_model_module_version": "1.2.0",
      "_model_name": "LayoutModel",
      "_view_count": null,
      "_view_module": "@jupyter-widgets/base",
      "_view_module_version": "1.2.0",
      "_view_name": "LayoutView",
      "align_content": null,
      "align_items": null,
      "align_self": null,
      "border": null,
      "bottom": null,
      "display": null,
      "flex": null,
      "flex_flow": null,
      "grid_area": null,
      "grid_auto_columns": null,
      "grid_auto_flow": null,
      "grid_auto_rows": null,
      "grid_column": null,
      "grid_gap": null,
      "grid_row": null,
      "grid_template_areas": null,
      "grid_template_columns": null,
      "grid_template_rows": null,
      "height": null,
      "justify_content": null,
      "justify_items": null,
      "left": null,
      "margin": null,
      "max_height": null,
      "max_width": null,
      "min_height": null,
      "min_width": null,
      "object_fit": null,
      "object_position": null,
      "order": null,
      "overflow": null,
      "overflow_x": null,
      "overflow_y": null,
      "padding": null,
      "right": null,
      "top": null,
      "visibility": null,
      "width": null
     }
    },
    "31b9d22346e74ab3a6211857195ad06c": {
     "model_module": "@jupyter-widgets/controls",
     "model_module_version": "1.5.0",
     "model_name": "DescriptionStyleModel",
     "state": {
      "_model_module": "@jupyter-widgets/controls",
      "_model_module_version": "1.5.0",
      "_model_name": "DescriptionStyleModel",
      "_view_count": null,
      "_view_module": "@jupyter-widgets/base",
      "_view_module_version": "1.2.0",
      "_view_name": "StyleView",
      "description_width": ""
     }
    },
    "34473e6be4cf48b9a3d634a0f5634f40": {
     "model_module": "@jupyter-widgets/controls",
     "model_module_version": "1.5.0",
     "model_name": "FloatProgressModel",
     "state": {
      "_dom_classes": [],
      "_model_module": "@jupyter-widgets/controls",
      "_model_module_version": "1.5.0",
      "_model_name": "FloatProgressModel",
      "_view_count": null,
      "_view_module": "@jupyter-widgets/controls",
      "_view_module_version": "1.5.0",
      "_view_name": "ProgressView",
      "bar_style": "success",
      "description": "",
      "description_tooltip": null,
      "layout": "IPY_MODEL_0883dcdb440448a6a59d582f7a417876",
      "max": 28,
      "min": 0,
      "orientation": "horizontal",
      "style": "IPY_MODEL_5ac00ac3cf7d4d39ba8c7b41b56f5061",
      "value": 28
     }
    },
    "356d3b7b5cb245959a5d948520fffd3b": {
     "model_module": "@jupyter-widgets/controls",
     "model_module_version": "1.5.0",
     "model_name": "HTMLModel",
     "state": {
      "_dom_classes": [],
      "_model_module": "@jupyter-widgets/controls",
      "_model_module_version": "1.5.0",
      "_model_name": "HTMLModel",
      "_view_count": null,
      "_view_module": "@jupyter-widgets/controls",
      "_view_module_version": "1.5.0",
      "_view_name": "HTMLView",
      "description": "",
      "description_tooltip": null,
      "layout": "IPY_MODEL_7ec6aa3b691c4cc898cc984184da7ad6",
      "placeholder": "​",
      "style": "IPY_MODEL_3c71815fae0e478eacaf5db1b253e487",
      "value": "Downloading pytorch_model.bin: 100%"
     }
    },
    "371d20c636d347aaaa424b3a20b43805": {
     "model_module": "@jupyter-widgets/controls",
     "model_module_version": "1.5.0",
     "model_name": "HBoxModel",
     "state": {
      "_dom_classes": [],
      "_model_module": "@jupyter-widgets/controls",
      "_model_module_version": "1.5.0",
      "_model_name": "HBoxModel",
      "_view_count": null,
      "_view_module": "@jupyter-widgets/controls",
      "_view_module_version": "1.5.0",
      "_view_name": "HBoxView",
      "box_style": "",
      "children": [
       "IPY_MODEL_e5d0899cb8ec473ba9163e2cac5b3cdc",
       "IPY_MODEL_34473e6be4cf48b9a3d634a0f5634f40",
       "IPY_MODEL_aee3045ec6f4460b8113fd516192b87c"
      ],
      "layout": "IPY_MODEL_50ef830702764a368406c58c36e7acda"
     }
    },
    "3b80b69071574d7fb3d4b3716ca3cc2c": {
     "model_module": "@jupyter-widgets/base",
     "model_module_version": "1.2.0",
     "model_name": "LayoutModel",
     "state": {
      "_model_module": "@jupyter-widgets/base",
      "_model_module_version": "1.2.0",
      "_model_name": "LayoutModel",
      "_view_count": null,
      "_view_module": "@jupyter-widgets/base",
      "_view_module_version": "1.2.0",
      "_view_name": "LayoutView",
      "align_content": null,
      "align_items": null,
      "align_self": null,
      "border": null,
      "bottom": null,
      "display": null,
      "flex": null,
      "flex_flow": null,
      "grid_area": null,
      "grid_auto_columns": null,
      "grid_auto_flow": null,
      "grid_auto_rows": null,
      "grid_column": null,
      "grid_gap": null,
      "grid_row": null,
      "grid_template_areas": null,
      "grid_template_columns": null,
      "grid_template_rows": null,
      "height": null,
      "justify_content": null,
      "justify_items": null,
      "left": null,
      "margin": null,
      "max_height": null,
      "max_width": null,
      "min_height": null,
      "min_width": null,
      "object_fit": null,
      "object_position": null,
      "order": null,
      "overflow": null,
      "overflow_x": null,
      "overflow_y": null,
      "padding": null,
      "right": null,
      "top": null,
      "visibility": null,
      "width": null
     }
    },
    "3c71815fae0e478eacaf5db1b253e487": {
     "model_module": "@jupyter-widgets/controls",
     "model_module_version": "1.5.0",
     "model_name": "DescriptionStyleModel",
     "state": {
      "_model_module": "@jupyter-widgets/controls",
      "_model_module_version": "1.5.0",
      "_model_name": "DescriptionStyleModel",
      "_view_count": null,
      "_view_module": "@jupyter-widgets/base",
      "_view_module_version": "1.2.0",
      "_view_name": "StyleView",
      "description_width": ""
     }
    },
    "3eb62d4ad7fe415b9ab885159f8bca5e": {
     "model_module": "@jupyter-widgets/base",
     "model_module_version": "1.2.0",
     "model_name": "LayoutModel",
     "state": {
      "_model_module": "@jupyter-widgets/base",
      "_model_module_version": "1.2.0",
      "_model_name": "LayoutModel",
      "_view_count": null,
      "_view_module": "@jupyter-widgets/base",
      "_view_module_version": "1.2.0",
      "_view_name": "LayoutView",
      "align_content": null,
      "align_items": null,
      "align_self": null,
      "border": null,
      "bottom": null,
      "display": null,
      "flex": null,
      "flex_flow": null,
      "grid_area": null,
      "grid_auto_columns": null,
      "grid_auto_flow": null,
      "grid_auto_rows": null,
      "grid_column": null,
      "grid_gap": null,
      "grid_row": null,
      "grid_template_areas": null,
      "grid_template_columns": null,
      "grid_template_rows": null,
      "height": null,
      "justify_content": null,
      "justify_items": null,
      "left": null,
      "margin": null,
      "max_height": null,
      "max_width": null,
      "min_height": null,
      "min_width": null,
      "object_fit": null,
      "object_position": null,
      "order": null,
      "overflow": null,
      "overflow_x": null,
      "overflow_y": null,
      "padding": null,
      "right": null,
      "top": null,
      "visibility": null,
      "width": null
     }
    },
    "40fb37c8df0f403fa7a0d9c29363a8e7": {
     "model_module": "@jupyter-widgets/controls",
     "model_module_version": "1.5.0",
     "model_name": "FloatProgressModel",
     "state": {
      "_dom_classes": [],
      "_model_module": "@jupyter-widgets/controls",
      "_model_module_version": "1.5.0",
      "_model_name": "FloatProgressModel",
      "_view_count": null,
      "_view_module": "@jupyter-widgets/controls",
      "_view_module_version": "1.5.0",
      "_view_name": "ProgressView",
      "bar_style": "success",
      "description": "",
      "description_tooltip": null,
      "layout": "IPY_MODEL_a6ae7fab62594a748e102adfba71f4e2",
      "max": 440473133,
      "min": 0,
      "orientation": "horizontal",
      "style": "IPY_MODEL_cb90127ba2224e8dab50e08d5606e9b6",
      "value": 440473133
     }
    },
    "4e2b12f4f41847a6974a4d8e94b9751a": {
     "model_module": "@jupyter-widgets/controls",
     "model_module_version": "1.5.0",
     "model_name": "DescriptionStyleModel",
     "state": {
      "_model_module": "@jupyter-widgets/controls",
      "_model_module_version": "1.5.0",
      "_model_name": "DescriptionStyleModel",
      "_view_count": null,
      "_view_module": "@jupyter-widgets/base",
      "_view_module_version": "1.2.0",
      "_view_name": "StyleView",
      "description_width": ""
     }
    },
    "50ef830702764a368406c58c36e7acda": {
     "model_module": "@jupyter-widgets/base",
     "model_module_version": "1.2.0",
     "model_name": "LayoutModel",
     "state": {
      "_model_module": "@jupyter-widgets/base",
      "_model_module_version": "1.2.0",
      "_model_name": "LayoutModel",
      "_view_count": null,
      "_view_module": "@jupyter-widgets/base",
      "_view_module_version": "1.2.0",
      "_view_name": "LayoutView",
      "align_content": null,
      "align_items": null,
      "align_self": null,
      "border": null,
      "bottom": null,
      "display": null,
      "flex": null,
      "flex_flow": null,
      "grid_area": null,
      "grid_auto_columns": null,
      "grid_auto_flow": null,
      "grid_auto_rows": null,
      "grid_column": null,
      "grid_gap": null,
      "grid_row": null,
      "grid_template_areas": null,
      "grid_template_columns": null,
      "grid_template_rows": null,
      "height": null,
      "justify_content": null,
      "justify_items": null,
      "left": null,
      "margin": null,
      "max_height": null,
      "max_width": null,
      "min_height": null,
      "min_width": null,
      "object_fit": null,
      "object_position": null,
      "order": null,
      "overflow": null,
      "overflow_x": null,
      "overflow_y": null,
      "padding": null,
      "right": null,
      "top": null,
      "visibility": null,
      "width": null
     }
    },
    "5ac00ac3cf7d4d39ba8c7b41b56f5061": {
     "model_module": "@jupyter-widgets/controls",
     "model_module_version": "1.5.0",
     "model_name": "ProgressStyleModel",
     "state": {
      "_model_module": "@jupyter-widgets/controls",
      "_model_module_version": "1.5.0",
      "_model_name": "ProgressStyleModel",
      "_view_count": null,
      "_view_module": "@jupyter-widgets/base",
      "_view_module_version": "1.2.0",
      "_view_name": "StyleView",
      "bar_color": null,
      "description_width": ""
     }
    },
    "7ec6aa3b691c4cc898cc984184da7ad6": {
     "model_module": "@jupyter-widgets/base",
     "model_module_version": "1.2.0",
     "model_name": "LayoutModel",
     "state": {
      "_model_module": "@jupyter-widgets/base",
      "_model_module_version": "1.2.0",
      "_model_name": "LayoutModel",
      "_view_count": null,
      "_view_module": "@jupyter-widgets/base",
      "_view_module_version": "1.2.0",
      "_view_name": "LayoutView",
      "align_content": null,
      "align_items": null,
      "align_self": null,
      "border": null,
      "bottom": null,
      "display": null,
      "flex": null,
      "flex_flow": null,
      "grid_area": null,
      "grid_auto_columns": null,
      "grid_auto_flow": null,
      "grid_auto_rows": null,
      "grid_column": null,
      "grid_gap": null,
      "grid_row": null,
      "grid_template_areas": null,
      "grid_template_columns": null,
      "grid_template_rows": null,
      "height": null,
      "justify_content": null,
      "justify_items": null,
      "left": null,
      "margin": null,
      "max_height": null,
      "max_width": null,
      "min_height": null,
      "min_width": null,
      "object_fit": null,
      "object_position": null,
      "order": null,
      "overflow": null,
      "overflow_x": null,
      "overflow_y": null,
      "padding": null,
      "right": null,
      "top": null,
      "visibility": null,
      "width": null
     }
    },
    "83d0bd3dfee04ffbaed0443763812ba8": {
     "model_module": "@jupyter-widgets/base",
     "model_module_version": "1.2.0",
     "model_name": "LayoutModel",
     "state": {
      "_model_module": "@jupyter-widgets/base",
      "_model_module_version": "1.2.0",
      "_model_name": "LayoutModel",
      "_view_count": null,
      "_view_module": "@jupyter-widgets/base",
      "_view_module_version": "1.2.0",
      "_view_name": "LayoutView",
      "align_content": null,
      "align_items": null,
      "align_self": null,
      "border": null,
      "bottom": null,
      "display": null,
      "flex": null,
      "flex_flow": null,
      "grid_area": null,
      "grid_auto_columns": null,
      "grid_auto_flow": null,
      "grid_auto_rows": null,
      "grid_column": null,
      "grid_gap": null,
      "grid_row": null,
      "grid_template_areas": null,
      "grid_template_columns": null,
      "grid_template_rows": null,
      "height": null,
      "justify_content": null,
      "justify_items": null,
      "left": null,
      "margin": null,
      "max_height": null,
      "max_width": null,
      "min_height": null,
      "min_width": null,
      "object_fit": null,
      "object_position": null,
      "order": null,
      "overflow": null,
      "overflow_x": null,
      "overflow_y": null,
      "padding": null,
      "right": null,
      "top": null,
      "visibility": null,
      "width": null
     }
    },
    "8bc986a819dd4fe0a321670686ec7315": {
     "model_module": "@jupyter-widgets/base",
     "model_module_version": "1.2.0",
     "model_name": "LayoutModel",
     "state": {
      "_model_module": "@jupyter-widgets/base",
      "_model_module_version": "1.2.0",
      "_model_name": "LayoutModel",
      "_view_count": null,
      "_view_module": "@jupyter-widgets/base",
      "_view_module_version": "1.2.0",
      "_view_name": "LayoutView",
      "align_content": null,
      "align_items": null,
      "align_self": null,
      "border": null,
      "bottom": null,
      "display": null,
      "flex": null,
      "flex_flow": null,
      "grid_area": null,
      "grid_auto_columns": null,
      "grid_auto_flow": null,
      "grid_auto_rows": null,
      "grid_column": null,
      "grid_gap": null,
      "grid_row": null,
      "grid_template_areas": null,
      "grid_template_columns": null,
      "grid_template_rows": null,
      "height": null,
      "justify_content": null,
      "justify_items": null,
      "left": null,
      "margin": null,
      "max_height": null,
      "max_width": null,
      "min_height": null,
      "min_width": null,
      "object_fit": null,
      "object_position": null,
      "order": null,
      "overflow": null,
      "overflow_x": null,
      "overflow_y": null,
      "padding": null,
      "right": null,
      "top": null,
      "visibility": null,
      "width": null
     }
    },
    "96ba2d0f9f5e41b2b40ccfdd078bf9e6": {
     "model_module": "@jupyter-widgets/controls",
     "model_module_version": "1.5.0",
     "model_name": "ProgressStyleModel",
     "state": {
      "_model_module": "@jupyter-widgets/controls",
      "_model_module_version": "1.5.0",
      "_model_name": "ProgressStyleModel",
      "_view_count": null,
      "_view_module": "@jupyter-widgets/base",
      "_view_module_version": "1.2.0",
      "_view_name": "StyleView",
      "bar_color": null,
      "description_width": ""
     }
    },
    "9c4af42d2bea4064b20a579ef4377540": {
     "model_module": "@jupyter-widgets/controls",
     "model_module_version": "1.5.0",
     "model_name": "HTMLModel",
     "state": {
      "_dom_classes": [],
      "_model_module": "@jupyter-widgets/controls",
      "_model_module_version": "1.5.0",
      "_model_name": "HTMLModel",
      "_view_count": null,
      "_view_module": "@jupyter-widgets/controls",
      "_view_module_version": "1.5.0",
      "_view_name": "HTMLView",
      "description": "",
      "description_tooltip": null,
      "layout": "IPY_MODEL_272110a083734379a3ae05fb1145585a",
      "placeholder": "​",
      "style": "IPY_MODEL_ea3f10c2b072444b8c33947cf3911edd",
      "value": "Downloading (…)solve/main/vocab.txt: 100%"
     }
    },
    "a3532fc6f6184252a9c99b5c19805a5d": {
     "model_module": "@jupyter-widgets/controls",
     "model_module_version": "1.5.0",
     "model_name": "DescriptionStyleModel",
     "state": {
      "_model_module": "@jupyter-widgets/controls",
      "_model_module_version": "1.5.0",
      "_model_name": "DescriptionStyleModel",
      "_view_count": null,
      "_view_module": "@jupyter-widgets/base",
      "_view_module_version": "1.2.0",
      "_view_name": "StyleView",
      "description_width": ""
     }
    },
    "a6ae7fab62594a748e102adfba71f4e2": {
     "model_module": "@jupyter-widgets/base",
     "model_module_version": "1.2.0",
     "model_name": "LayoutModel",
     "state": {
      "_model_module": "@jupyter-widgets/base",
      "_model_module_version": "1.2.0",
      "_model_name": "LayoutModel",
      "_view_count": null,
      "_view_module": "@jupyter-widgets/base",
      "_view_module_version": "1.2.0",
      "_view_name": "LayoutView",
      "align_content": null,
      "align_items": null,
      "align_self": null,
      "border": null,
      "bottom": null,
      "display": null,
      "flex": null,
      "flex_flow": null,
      "grid_area": null,
      "grid_auto_columns": null,
      "grid_auto_flow": null,
      "grid_auto_rows": null,
      "grid_column": null,
      "grid_gap": null,
      "grid_row": null,
      "grid_template_areas": null,
      "grid_template_columns": null,
      "grid_template_rows": null,
      "height": null,
      "justify_content": null,
      "justify_items": null,
      "left": null,
      "margin": null,
      "max_height": null,
      "max_width": null,
      "min_height": null,
      "min_width": null,
      "object_fit": null,
      "object_position": null,
      "order": null,
      "overflow": null,
      "overflow_x": null,
      "overflow_y": null,
      "padding": null,
      "right": null,
      "top": null,
      "visibility": null,
      "width": null
     }
    },
    "ac4bfebada2747eb865706c33fe61460": {
     "model_module": "@jupyter-widgets/controls",
     "model_module_version": "1.5.0",
     "model_name": "HTMLModel",
     "state": {
      "_dom_classes": [],
      "_model_module": "@jupyter-widgets/controls",
      "_model_module_version": "1.5.0",
      "_model_name": "HTMLModel",
      "_view_count": null,
      "_view_module": "@jupyter-widgets/controls",
      "_view_module_version": "1.5.0",
      "_view_name": "HTMLView",
      "description": "",
      "description_tooltip": null,
      "layout": "IPY_MODEL_ff63b20d8fb146319baf01d08cdfbdc4",
      "placeholder": "​",
      "style": "IPY_MODEL_4e2b12f4f41847a6974a4d8e94b9751a",
      "value": "Downloading (…)lve/main/config.json: 100%"
     }
    },
    "ae53c4a046254236a4aa345d28151ad2": {
     "model_module": "@jupyter-widgets/base",
     "model_module_version": "1.2.0",
     "model_name": "LayoutModel",
     "state": {
      "_model_module": "@jupyter-widgets/base",
      "_model_module_version": "1.2.0",
      "_model_name": "LayoutModel",
      "_view_count": null,
      "_view_module": "@jupyter-widgets/base",
      "_view_module_version": "1.2.0",
      "_view_name": "LayoutView",
      "align_content": null,
      "align_items": null,
      "align_self": null,
      "border": null,
      "bottom": null,
      "display": null,
      "flex": null,
      "flex_flow": null,
      "grid_area": null,
      "grid_auto_columns": null,
      "grid_auto_flow": null,
      "grid_auto_rows": null,
      "grid_column": null,
      "grid_gap": null,
      "grid_row": null,
      "grid_template_areas": null,
      "grid_template_columns": null,
      "grid_template_rows": null,
      "height": null,
      "justify_content": null,
      "justify_items": null,
      "left": null,
      "margin": null,
      "max_height": null,
      "max_width": null,
      "min_height": null,
      "min_width": null,
      "object_fit": null,
      "object_position": null,
      "order": null,
      "overflow": null,
      "overflow_x": null,
      "overflow_y": null,
      "padding": null,
      "right": null,
      "top": null,
      "visibility": null,
      "width": null
     }
    },
    "aee3045ec6f4460b8113fd516192b87c": {
     "model_module": "@jupyter-widgets/controls",
     "model_module_version": "1.5.0",
     "model_name": "HTMLModel",
     "state": {
      "_dom_classes": [],
      "_model_module": "@jupyter-widgets/controls",
      "_model_module_version": "1.5.0",
      "_model_name": "HTMLModel",
      "_view_count": null,
      "_view_module": "@jupyter-widgets/controls",
      "_view_module_version": "1.5.0",
      "_view_name": "HTMLView",
      "description": "",
      "description_tooltip": null,
      "layout": "IPY_MODEL_07809965c56e4d8689524139c7664f0e",
      "placeholder": "​",
      "style": "IPY_MODEL_a3532fc6f6184252a9c99b5c19805a5d",
      "value": " 28.0/28.0 [00:00&lt;00:00, 131B/s]"
     }
    },
    "b5b0a32a59d149a188820204235e8f65": {
     "model_module": "@jupyter-widgets/base",
     "model_module_version": "1.2.0",
     "model_name": "LayoutModel",
     "state": {
      "_model_module": "@jupyter-widgets/base",
      "_model_module_version": "1.2.0",
      "_model_name": "LayoutModel",
      "_view_count": null,
      "_view_module": "@jupyter-widgets/base",
      "_view_module_version": "1.2.0",
      "_view_name": "LayoutView",
      "align_content": null,
      "align_items": null,
      "align_self": null,
      "border": null,
      "bottom": null,
      "display": null,
      "flex": null,
      "flex_flow": null,
      "grid_area": null,
      "grid_auto_columns": null,
      "grid_auto_flow": null,
      "grid_auto_rows": null,
      "grid_column": null,
      "grid_gap": null,
      "grid_row": null,
      "grid_template_areas": null,
      "grid_template_columns": null,
      "grid_template_rows": null,
      "height": null,
      "justify_content": null,
      "justify_items": null,
      "left": null,
      "margin": null,
      "max_height": null,
      "max_width": null,
      "min_height": null,
      "min_width": null,
      "object_fit": null,
      "object_position": null,
      "order": null,
      "overflow": null,
      "overflow_x": null,
      "overflow_y": null,
      "padding": null,
      "right": null,
      "top": null,
      "visibility": null,
      "width": null
     }
    },
    "bdf33eaafe944624b63cabcfbde03470": {
     "model_module": "@jupyter-widgets/controls",
     "model_module_version": "1.5.0",
     "model_name": "HTMLModel",
     "state": {
      "_dom_classes": [],
      "_model_module": "@jupyter-widgets/controls",
      "_model_module_version": "1.5.0",
      "_model_name": "HTMLModel",
      "_view_count": null,
      "_view_module": "@jupyter-widgets/controls",
      "_view_module_version": "1.5.0",
      "_view_name": "HTMLView",
      "description": "",
      "description_tooltip": null,
      "layout": "IPY_MODEL_3eb62d4ad7fe415b9ab885159f8bca5e",
      "placeholder": "​",
      "style": "IPY_MODEL_31b9d22346e74ab3a6211857195ad06c",
      "value": " 570/570 [00:00&lt;00:00, 6.52kB/s]"
     }
    },
    "c738d9667be542fba13fd14df98c514f": {
     "model_module": "@jupyter-widgets/controls",
     "model_module_version": "1.5.0",
     "model_name": "HBoxModel",
     "state": {
      "_dom_classes": [],
      "_model_module": "@jupyter-widgets/controls",
      "_model_module_version": "1.5.0",
      "_model_name": "HBoxModel",
      "_view_count": null,
      "_view_module": "@jupyter-widgets/controls",
      "_view_module_version": "1.5.0",
      "_view_name": "HBoxView",
      "box_style": "",
      "children": [
       "IPY_MODEL_356d3b7b5cb245959a5d948520fffd3b",
       "IPY_MODEL_40fb37c8df0f403fa7a0d9c29363a8e7",
       "IPY_MODEL_dcf145ed9691437189cab15adc59d667"
      ],
      "layout": "IPY_MODEL_ae53c4a046254236a4aa345d28151ad2"
     }
    },
    "c7b9f81c2479475d8195cce5fc2f78ee": {
     "model_module": "@jupyter-widgets/base",
     "model_module_version": "1.2.0",
     "model_name": "LayoutModel",
     "state": {
      "_model_module": "@jupyter-widgets/base",
      "_model_module_version": "1.2.0",
      "_model_name": "LayoutModel",
      "_view_count": null,
      "_view_module": "@jupyter-widgets/base",
      "_view_module_version": "1.2.0",
      "_view_name": "LayoutView",
      "align_content": null,
      "align_items": null,
      "align_self": null,
      "border": null,
      "bottom": null,
      "display": null,
      "flex": null,
      "flex_flow": null,
      "grid_area": null,
      "grid_auto_columns": null,
      "grid_auto_flow": null,
      "grid_auto_rows": null,
      "grid_column": null,
      "grid_gap": null,
      "grid_row": null,
      "grid_template_areas": null,
      "grid_template_columns": null,
      "grid_template_rows": null,
      "height": null,
      "justify_content": null,
      "justify_items": null,
      "left": null,
      "margin": null,
      "max_height": null,
      "max_width": null,
      "min_height": null,
      "min_width": null,
      "object_fit": null,
      "object_position": null,
      "order": null,
      "overflow": null,
      "overflow_x": null,
      "overflow_y": null,
      "padding": null,
      "right": null,
      "top": null,
      "visibility": null,
      "width": null
     }
    },
    "cb90127ba2224e8dab50e08d5606e9b6": {
     "model_module": "@jupyter-widgets/controls",
     "model_module_version": "1.5.0",
     "model_name": "ProgressStyleModel",
     "state": {
      "_model_module": "@jupyter-widgets/controls",
      "_model_module_version": "1.5.0",
      "_model_name": "ProgressStyleModel",
      "_view_count": null,
      "_view_module": "@jupyter-widgets/base",
      "_view_module_version": "1.2.0",
      "_view_name": "StyleView",
      "bar_color": null,
      "description_width": ""
     }
    },
    "d584727c8e514285aaf1989db482b804": {
     "model_module": "@jupyter-widgets/controls",
     "model_module_version": "1.5.0",
     "model_name": "DescriptionStyleModel",
     "state": {
      "_model_module": "@jupyter-widgets/controls",
      "_model_module_version": "1.5.0",
      "_model_name": "DescriptionStyleModel",
      "_view_count": null,
      "_view_module": "@jupyter-widgets/base",
      "_view_module_version": "1.2.0",
      "_view_name": "StyleView",
      "description_width": ""
     }
    },
    "dcf145ed9691437189cab15adc59d667": {
     "model_module": "@jupyter-widgets/controls",
     "model_module_version": "1.5.0",
     "model_name": "HTMLModel",
     "state": {
      "_dom_classes": [],
      "_model_module": "@jupyter-widgets/controls",
      "_model_module_version": "1.5.0",
      "_model_name": "HTMLModel",
      "_view_count": null,
      "_view_module": "@jupyter-widgets/controls",
      "_view_module_version": "1.5.0",
      "_view_name": "HTMLView",
      "description": "",
      "description_tooltip": null,
      "layout": "IPY_MODEL_8bc986a819dd4fe0a321670686ec7315",
      "placeholder": "​",
      "style": "IPY_MODEL_199c19f01cbd40419dcc4e2f607c8d77",
      "value": " 440M/440M [00:11&lt;00:00, 14.2MB/s]"
     }
    },
    "de2b7035048c42f1be0cfe15723d8091": {
     "model_module": "@jupyter-widgets/controls",
     "model_module_version": "1.5.0",
     "model_name": "HTMLModel",
     "state": {
      "_dom_classes": [],
      "_model_module": "@jupyter-widgets/controls",
      "_model_module_version": "1.5.0",
      "_model_name": "HTMLModel",
      "_view_count": null,
      "_view_module": "@jupyter-widgets/controls",
      "_view_module_version": "1.5.0",
      "_view_name": "HTMLView",
      "description": "",
      "description_tooltip": null,
      "layout": "IPY_MODEL_3b80b69071574d7fb3d4b3716ca3cc2c",
      "placeholder": "​",
      "style": "IPY_MODEL_d584727c8e514285aaf1989db482b804",
      "value": " 232k/232k [00:00&lt;00:00, 716kB/s]"
     }
    },
    "e5d0899cb8ec473ba9163e2cac5b3cdc": {
     "model_module": "@jupyter-widgets/controls",
     "model_module_version": "1.5.0",
     "model_name": "HTMLModel",
     "state": {
      "_dom_classes": [],
      "_model_module": "@jupyter-widgets/controls",
      "_model_module_version": "1.5.0",
      "_model_name": "HTMLModel",
      "_view_count": null,
      "_view_module": "@jupyter-widgets/controls",
      "_view_module_version": "1.5.0",
      "_view_name": "HTMLView",
      "description": "",
      "description_tooltip": null,
      "layout": "IPY_MODEL_c7b9f81c2479475d8195cce5fc2f78ee",
      "placeholder": "​",
      "style": "IPY_MODEL_e837531771dd4a018defcf1c2268ba00",
      "value": "Downloading (…)okenizer_config.json: 100%"
     }
    },
    "e837531771dd4a018defcf1c2268ba00": {
     "model_module": "@jupyter-widgets/controls",
     "model_module_version": "1.5.0",
     "model_name": "DescriptionStyleModel",
     "state": {
      "_model_module": "@jupyter-widgets/controls",
      "_model_module_version": "1.5.0",
      "_model_name": "DescriptionStyleModel",
      "_view_count": null,
      "_view_module": "@jupyter-widgets/base",
      "_view_module_version": "1.2.0",
      "_view_name": "StyleView",
      "description_width": ""
     }
    },
    "ea3f10c2b072444b8c33947cf3911edd": {
     "model_module": "@jupyter-widgets/controls",
     "model_module_version": "1.5.0",
     "model_name": "DescriptionStyleModel",
     "state": {
      "_model_module": "@jupyter-widgets/controls",
      "_model_module_version": "1.5.0",
      "_model_name": "DescriptionStyleModel",
      "_view_count": null,
      "_view_module": "@jupyter-widgets/base",
      "_view_module_version": "1.2.0",
      "_view_name": "StyleView",
      "description_width": ""
     }
    },
    "eb143e957700414a9cb55c3587fc876a": {
     "model_module": "@jupyter-widgets/controls",
     "model_module_version": "1.5.0",
     "model_name": "FloatProgressModel",
     "state": {
      "_dom_classes": [],
      "_model_module": "@jupyter-widgets/controls",
      "_model_module_version": "1.5.0",
      "_model_name": "FloatProgressModel",
      "_view_count": null,
      "_view_module": "@jupyter-widgets/controls",
      "_view_module_version": "1.5.0",
      "_view_name": "ProgressView",
      "bar_style": "success",
      "description": "",
      "description_tooltip": null,
      "layout": "IPY_MODEL_f3b1575d668444eab2969126e2061de6",
      "max": 570,
      "min": 0,
      "orientation": "horizontal",
      "style": "IPY_MODEL_1eaa1f14c9d845d39ebcd78c95eac6ae",
      "value": 570
     }
    },
    "f3b1575d668444eab2969126e2061de6": {
     "model_module": "@jupyter-widgets/base",
     "model_module_version": "1.2.0",
     "model_name": "LayoutModel",
     "state": {
      "_model_module": "@jupyter-widgets/base",
      "_model_module_version": "1.2.0",
      "_model_name": "LayoutModel",
      "_view_count": null,
      "_view_module": "@jupyter-widgets/base",
      "_view_module_version": "1.2.0",
      "_view_name": "LayoutView",
      "align_content": null,
      "align_items": null,
      "align_self": null,
      "border": null,
      "bottom": null,
      "display": null,
      "flex": null,
      "flex_flow": null,
      "grid_area": null,
      "grid_auto_columns": null,
      "grid_auto_flow": null,
      "grid_auto_rows": null,
      "grid_column": null,
      "grid_gap": null,
      "grid_row": null,
      "grid_template_areas": null,
      "grid_template_columns": null,
      "grid_template_rows": null,
      "height": null,
      "justify_content": null,
      "justify_items": null,
      "left": null,
      "margin": null,
      "max_height": null,
      "max_width": null,
      "min_height": null,
      "min_width": null,
      "object_fit": null,
      "object_position": null,
      "order": null,
      "overflow": null,
      "overflow_x": null,
      "overflow_y": null,
      "padding": null,
      "right": null,
      "top": null,
      "visibility": null,
      "width": null
     }
    },
    "f6d7e3ccef5b466ba681af2c8e1b6e29": {
     "model_module": "@jupyter-widgets/controls",
     "model_module_version": "1.5.0",
     "model_name": "FloatProgressModel",
     "state": {
      "_dom_classes": [],
      "_model_module": "@jupyter-widgets/controls",
      "_model_module_version": "1.5.0",
      "_model_name": "FloatProgressModel",
      "_view_count": null,
      "_view_module": "@jupyter-widgets/controls",
      "_view_module_version": "1.5.0",
      "_view_name": "ProgressView",
      "bar_style": "success",
      "description": "",
      "description_tooltip": null,
      "layout": "IPY_MODEL_83d0bd3dfee04ffbaed0443763812ba8",
      "max": 231508,
      "min": 0,
      "orientation": "horizontal",
      "style": "IPY_MODEL_96ba2d0f9f5e41b2b40ccfdd078bf9e6",
      "value": 231508
     }
    },
    "ff63b20d8fb146319baf01d08cdfbdc4": {
     "model_module": "@jupyter-widgets/base",
     "model_module_version": "1.2.0",
     "model_name": "LayoutModel",
     "state": {
      "_model_module": "@jupyter-widgets/base",
      "_model_module_version": "1.2.0",
      "_model_name": "LayoutModel",
      "_view_count": null,
      "_view_module": "@jupyter-widgets/base",
      "_view_module_version": "1.2.0",
      "_view_name": "LayoutView",
      "align_content": null,
      "align_items": null,
      "align_self": null,
      "border": null,
      "bottom": null,
      "display": null,
      "flex": null,
      "flex_flow": null,
      "grid_area": null,
      "grid_auto_columns": null,
      "grid_auto_flow": null,
      "grid_auto_rows": null,
      "grid_column": null,
      "grid_gap": null,
      "grid_row": null,
      "grid_template_areas": null,
      "grid_template_columns": null,
      "grid_template_rows": null,
      "height": null,
      "justify_content": null,
      "justify_items": null,
      "left": null,
      "margin": null,
      "max_height": null,
      "max_width": null,
      "min_height": null,
      "min_width": null,
      "object_fit": null,
      "object_position": null,
      "order": null,
      "overflow": null,
      "overflow_x": null,
      "overflow_y": null,
      "padding": null,
      "right": null,
      "top": null,
      "visibility": null,
      "width": null
     }
    }
   }
  }
 },
 "nbformat": 4,
 "nbformat_minor": 1
}
